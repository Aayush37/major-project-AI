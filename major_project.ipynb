{
  "nbformat": 4,
  "nbformat_minor": 0,
  "metadata": {
    "colab": {
      "name": "major project.ipynb",
      "provenance": [],
      "toc_visible": true,
      "mount_file_id": "1pyI_-XW24jszMUVCJIYlwPuTNvQOxPZy",
      "authorship_tag": "ABX9TyPSdzbo2oHKkuUilRZibiGh",
      "include_colab_link": true
    },
    "kernelspec": {
      "name": "python3",
      "display_name": "Python 3"
    },
    "accelerator": "GPU"
  },
  "cells": [
    {
      "cell_type": "markdown",
      "metadata": {
        "id": "view-in-github",
        "colab_type": "text"
      },
      "source": [
        "<a href=\"https://colab.research.google.com/github/Aayush37/major-project-AI/blob/main/major_project.ipynb\" target=\"_parent\"><img src=\"https://colab.research.google.com/assets/colab-badge.svg\" alt=\"Open In Colab\"/></a>"
      ]
    },
    {
      "cell_type": "code",
      "metadata": {
        "id": "2NuYYnRqk6Hz"
      },
      "source": [
        "from tensorflow.keras.applications.vgg16 import VGG16\n",
        "import tensorflow.keras as keras\n",
        "from keras.layers import Input,Flatten,Dense\n",
        "from keras.models import Model\n",
        "from tensorflow.keras.applications.vgg16 import preprocess_input"
      ],
      "execution_count": 17,
      "outputs": []
    },
    {
      "cell_type": "code",
      "metadata": {
        "id": "YzpjK7vq8uMh"
      },
      "source": [
        "import matplotlib.pyplot as plt\r\n",
        "import numpy as np\r\n",
        "from tensorflow.keras.preprocessing import image\r\n",
        "from keras.preprocessing.image import ImageDataGenerator"
      ],
      "execution_count": 18,
      "outputs": []
    },
    {
      "cell_type": "code",
      "metadata": {
        "colab": {
          "base_uri": "https://localhost:8080/"
        },
        "id": "VpNUw0PMdUxt",
        "outputId": "a9b65df9-e0bd-4484-a23c-02171c7d5269"
      },
      "source": [
        "data=ImageDataGenerator(rescale=1./255,shear_range=0.2,zoom_range=0.2,horizontal_flip=True)\r\n",
        "data=ImageDataGenerator(rescale=1./255)\r\n",
        "im_data=data.flow_from_directory('/content/drive/MyDrive/Training/AI/train',target_size=(224,224),batch_size=32,class_mode='categorical')"
      ],
      "execution_count": 19,
      "outputs": [
        {
          "output_type": "stream",
          "text": [
            "Found 74 images belonging to 5 classes.\n"
          ],
          "name": "stdout"
        }
      ]
    },
    {
      "cell_type": "markdown",
      "metadata": {
        "id": "38VoKjG0b2wG"
      },
      "source": [
        "data=[]\r\n",
        "images=[]\r\n",
        "target=[]\r\n",
        "path='/content/drive/MyDrive/Training/AI/data'\r\n",
        "classification_type=os.listdir(path)\r\n",
        "for i in range(len(classification_type)):\r\n",
        "  img_path=os.listdir(os.path.join(path,classification_type[i]))\r\n",
        "  for j in img_path:\r\n",
        "    img=plt.imread(os.path.join(os.path.join(path,classification_type[i]),j))\r\n",
        "    img_resize=resize(img,(224,224,3))\r\n",
        "    data.append(img_resize)\r\n",
        "    images.append(img_resize)\r\n",
        "    target.append(i)\r\n",
        "data=np.array(data)\r\n",
        "images=np.array(images)\r\n",
        "target=np.array(target)\r\n"
      ]
    },
    {
      "cell_type": "code",
      "metadata": {
        "id": "qIiYdGK7lCMm"
      },
      "source": [
        "model=VGG16(\n",
        "    include_top=False, weights='imagenet', input_shape=(224,224,3))"
      ],
      "execution_count": 20,
      "outputs": []
    },
    {
      "cell_type": "code",
      "metadata": {
        "id": "6tT33E25NgnO"
      },
      "source": [
        "for layer in model.layers:\r\n",
        "  layer.trainable=False"
      ],
      "execution_count": 21,
      "outputs": []
    },
    {
      "cell_type": "code",
      "metadata": {
        "id": "12Mg3DrSOj7o"
      },
      "source": [
        "x=Flatten()(model.output)\r\n",
        "pred=Dense(5,activation='softmax')(x)"
      ],
      "execution_count": 22,
      "outputs": []
    },
    {
      "cell_type": "code",
      "metadata": {
        "id": "4-po5ZMSQMYq"
      },
      "source": [
        "model=Model(inputs=model.input, outputs=pred)#rebuilding the model"
      ],
      "execution_count": 23,
      "outputs": []
    },
    {
      "cell_type": "code",
      "metadata": {
        "id": "_sDu8cwNCkTf"
      },
      "source": [
        "model.compile(optimizer=\"Adam\", loss=keras.losses.categorical_crossentropy, metrics=['accuracy'])\r\n"
      ],
      "execution_count": 24,
      "outputs": []
    },
    {
      "cell_type": "code",
      "metadata": {
        "colab": {
          "base_uri": "https://localhost:8080/"
        },
        "id": "TlThfcarUpC0",
        "outputId": "e4be4545-4ac9-4d56-c85d-8ae144563776"
      },
      "source": [
        "model.fit_generator(im_data,epochs=50)"
      ],
      "execution_count": 25,
      "outputs": [
        {
          "output_type": "stream",
          "text": [
            "Epoch 1/50\n",
            "3/3 [==============================] - 5s 2s/step - loss: 2.3213 - accuracy: 0.2027\n",
            "Epoch 2/50\n",
            "3/3 [==============================] - 0s 60ms/step - loss: 0.7765 - accuracy: 0.6757\n",
            "Epoch 3/50\n",
            "3/3 [==============================] - 0s 60ms/step - loss: 0.4300 - accuracy: 0.8649\n",
            "Epoch 4/50\n",
            "3/3 [==============================] - 0s 59ms/step - loss: 0.1097 - accuracy: 0.9865\n",
            "Epoch 5/50\n",
            "3/3 [==============================] - 0s 59ms/step - loss: 0.0807 - accuracy: 0.9865\n",
            "Epoch 6/50\n",
            "3/3 [==============================] - 0s 59ms/step - loss: 0.0652 - accuracy: 0.9865\n",
            "Epoch 7/50\n",
            "3/3 [==============================] - 0s 93ms/step - loss: 0.0227 - accuracy: 1.0000\n",
            "Epoch 8/50\n",
            "3/3 [==============================] - 0s 68ms/step - loss: 0.0107 - accuracy: 1.0000\n",
            "Epoch 9/50\n",
            "3/3 [==============================] - 0s 70ms/step - loss: 0.0073 - accuracy: 1.0000\n",
            "Epoch 10/50\n",
            "3/3 [==============================] - 0s 69ms/step - loss: 0.0051 - accuracy: 1.0000\n",
            "Epoch 11/50\n",
            "3/3 [==============================] - 0s 70ms/step - loss: 0.0043 - accuracy: 1.0000\n",
            "Epoch 12/50\n",
            "3/3 [==============================] - 0s 93ms/step - loss: 0.0038 - accuracy: 1.0000\n",
            "Epoch 13/50\n",
            "3/3 [==============================] - 0s 68ms/step - loss: 0.0035 - accuracy: 1.0000\n",
            "Epoch 14/50\n",
            "3/3 [==============================] - 0s 58ms/step - loss: 0.0032 - accuracy: 1.0000\n",
            "Epoch 15/50\n",
            "3/3 [==============================] - 0s 68ms/step - loss: 0.0028 - accuracy: 1.0000\n",
            "Epoch 16/50\n",
            "3/3 [==============================] - 0s 93ms/step - loss: 0.0026 - accuracy: 1.0000\n",
            "Epoch 17/50\n",
            "3/3 [==============================] - 0s 60ms/step - loss: 0.0023 - accuracy: 1.0000\n",
            "Epoch 18/50\n",
            "3/3 [==============================] - 0s 69ms/step - loss: 0.0021 - accuracy: 1.0000\n",
            "Epoch 19/50\n",
            "3/3 [==============================] - 0s 70ms/step - loss: 0.0019 - accuracy: 1.0000\n",
            "Epoch 20/50\n",
            "3/3 [==============================] - 0s 69ms/step - loss: 0.0018 - accuracy: 1.0000\n",
            "Epoch 21/50\n",
            "3/3 [==============================] - 0s 61ms/step - loss: 0.0017 - accuracy: 1.0000\n",
            "Epoch 22/50\n",
            "3/3 [==============================] - 0s 70ms/step - loss: 0.0016 - accuracy: 1.0000\n",
            "Epoch 23/50\n",
            "3/3 [==============================] - 0s 59ms/step - loss: 0.0015 - accuracy: 1.0000\n",
            "Epoch 24/50\n",
            "3/3 [==============================] - 0s 71ms/step - loss: 0.0014 - accuracy: 1.0000\n",
            "Epoch 25/50\n",
            "3/3 [==============================] - 0s 59ms/step - loss: 0.0014 - accuracy: 1.0000\n",
            "Epoch 26/50\n",
            "3/3 [==============================] - 0s 61ms/step - loss: 0.0013 - accuracy: 1.0000\n",
            "Epoch 27/50\n",
            "3/3 [==============================] - 0s 72ms/step - loss: 0.0013 - accuracy: 1.0000\n",
            "Epoch 28/50\n",
            "3/3 [==============================] - 0s 69ms/step - loss: 0.0013 - accuracy: 1.0000\n",
            "Epoch 29/50\n",
            "3/3 [==============================] - 0s 62ms/step - loss: 0.0012 - accuracy: 1.0000\n",
            "Epoch 30/50\n",
            "3/3 [==============================] - 0s 70ms/step - loss: 0.0012 - accuracy: 1.0000\n",
            "Epoch 31/50\n",
            "3/3 [==============================] - 0s 61ms/step - loss: 0.0012 - accuracy: 1.0000\n",
            "Epoch 32/50\n",
            "3/3 [==============================] - 0s 69ms/step - loss: 0.0011 - accuracy: 1.0000\n",
            "Epoch 33/50\n",
            "3/3 [==============================] - 0s 61ms/step - loss: 0.0011 - accuracy: 1.0000\n",
            "Epoch 34/50\n",
            "3/3 [==============================] - 0s 68ms/step - loss: 0.0011 - accuracy: 1.0000\n",
            "Epoch 35/50\n",
            "3/3 [==============================] - 0s 60ms/step - loss: 0.0011 - accuracy: 1.0000\n",
            "Epoch 36/50\n",
            "3/3 [==============================] - 0s 62ms/step - loss: 0.0011 - accuracy: 1.0000\n",
            "Epoch 37/50\n",
            "3/3 [==============================] - 0s 60ms/step - loss: 0.0010 - accuracy: 1.0000\n",
            "Epoch 38/50\n",
            "3/3 [==============================] - 0s 61ms/step - loss: 0.0010 - accuracy: 1.0000\n",
            "Epoch 39/50\n",
            "3/3 [==============================] - 0s 61ms/step - loss: 9.9162e-04 - accuracy: 1.0000\n",
            "Epoch 40/50\n",
            "3/3 [==============================] - 0s 68ms/step - loss: 9.7258e-04 - accuracy: 1.0000\n",
            "Epoch 41/50\n",
            "3/3 [==============================] - 0s 70ms/step - loss: 9.5347e-04 - accuracy: 1.0000\n",
            "Epoch 42/50\n",
            "3/3 [==============================] - 0s 62ms/step - loss: 9.3648e-04 - accuracy: 1.0000\n",
            "Epoch 43/50\n",
            "3/3 [==============================] - 0s 94ms/step - loss: 9.1681e-04 - accuracy: 1.0000\n",
            "Epoch 44/50\n",
            "3/3 [==============================] - 0s 100ms/step - loss: 9.0141e-04 - accuracy: 1.0000\n",
            "Epoch 45/50\n",
            "3/3 [==============================] - 0s 70ms/step - loss: 8.8874e-04 - accuracy: 1.0000\n",
            "Epoch 46/50\n",
            "3/3 [==============================] - 0s 61ms/step - loss: 8.7952e-04 - accuracy: 1.0000\n",
            "Epoch 47/50\n",
            "3/3 [==============================] - 0s 96ms/step - loss: 8.6410e-04 - accuracy: 1.0000\n",
            "Epoch 48/50\n",
            "3/3 [==============================] - 0s 68ms/step - loss: 8.5389e-04 - accuracy: 1.0000\n",
            "Epoch 49/50\n",
            "3/3 [==============================] - 0s 104ms/step - loss: 8.3852e-04 - accuracy: 1.0000\n",
            "Epoch 50/50\n",
            "3/3 [==============================] - 0s 95ms/step - loss: 8.2928e-04 - accuracy: 1.0000\n"
          ],
          "name": "stdout"
        },
        {
          "output_type": "execute_result",
          "data": {
            "text/plain": [
              "<tensorflow.python.keras.callbacks.History at 0x7fb82cb1eda0>"
            ]
          },
          "metadata": {
            "tags": []
          },
          "execution_count": 25
        }
      ]
    },
    {
      "cell_type": "code",
      "metadata": {
        "id": "qxvtWDKHmi5q",
        "colab": {
          "base_uri": "https://localhost:8080/"
        },
        "outputId": "83085b7d-334e-4410-8cec-24c83833a327"
      },
      "source": [
        "model.summary()"
      ],
      "execution_count": 26,
      "outputs": [
        {
          "output_type": "stream",
          "text": [
            "Model: \"functional_3\"\n",
            "_________________________________________________________________\n",
            "Layer (type)                 Output Shape              Param #   \n",
            "=================================================================\n",
            "input_2 (InputLayer)         [(None, 224, 224, 3)]     0         \n",
            "_________________________________________________________________\n",
            "block1_conv1 (Conv2D)        (None, 224, 224, 64)      1792      \n",
            "_________________________________________________________________\n",
            "block1_conv2 (Conv2D)        (None, 224, 224, 64)      36928     \n",
            "_________________________________________________________________\n",
            "block1_pool (MaxPooling2D)   (None, 112, 112, 64)      0         \n",
            "_________________________________________________________________\n",
            "block2_conv1 (Conv2D)        (None, 112, 112, 128)     73856     \n",
            "_________________________________________________________________\n",
            "block2_conv2 (Conv2D)        (None, 112, 112, 128)     147584    \n",
            "_________________________________________________________________\n",
            "block2_pool (MaxPooling2D)   (None, 56, 56, 128)       0         \n",
            "_________________________________________________________________\n",
            "block3_conv1 (Conv2D)        (None, 56, 56, 256)       295168    \n",
            "_________________________________________________________________\n",
            "block3_conv2 (Conv2D)        (None, 56, 56, 256)       590080    \n",
            "_________________________________________________________________\n",
            "block3_conv3 (Conv2D)        (None, 56, 56, 256)       590080    \n",
            "_________________________________________________________________\n",
            "block3_pool (MaxPooling2D)   (None, 28, 28, 256)       0         \n",
            "_________________________________________________________________\n",
            "block4_conv1 (Conv2D)        (None, 28, 28, 512)       1180160   \n",
            "_________________________________________________________________\n",
            "block4_conv2 (Conv2D)        (None, 28, 28, 512)       2359808   \n",
            "_________________________________________________________________\n",
            "block4_conv3 (Conv2D)        (None, 28, 28, 512)       2359808   \n",
            "_________________________________________________________________\n",
            "block4_pool (MaxPooling2D)   (None, 14, 14, 512)       0         \n",
            "_________________________________________________________________\n",
            "block5_conv1 (Conv2D)        (None, 14, 14, 512)       2359808   \n",
            "_________________________________________________________________\n",
            "block5_conv2 (Conv2D)        (None, 14, 14, 512)       2359808   \n",
            "_________________________________________________________________\n",
            "block5_conv3 (Conv2D)        (None, 14, 14, 512)       2359808   \n",
            "_________________________________________________________________\n",
            "block5_pool (MaxPooling2D)   (None, 7, 7, 512)         0         \n",
            "_________________________________________________________________\n",
            "flatten_1 (Flatten)          (None, 25088)             0         \n",
            "_________________________________________________________________\n",
            "dense_1 (Dense)              (None, 5)                 125445    \n",
            "=================================================================\n",
            "Total params: 14,840,133\n",
            "Trainable params: 125,445\n",
            "Non-trainable params: 14,714,688\n",
            "_________________________________________________________________\n"
          ],
          "name": "stdout"
        }
      ]
    },
    {
      "cell_type": "code",
      "metadata": {
        "id": "kO5AnC1Zo8Ra"
      },
      "source": [
        "def decode(a):\r\n",
        "  if (a[0][0]==1):\r\n",
        "    return('Lamborghini')\r\n",
        "  elif (a[0][1]==1):\r\n",
        "    return('aston martin')\r\n",
        "  elif (a[0][2]==1):\r\n",
        "    return('bugatti')\r\n",
        "  elif (a[0][3]==1):\r\n",
        "    return('ferari')\r\n",
        "  elif (a[0][4]==1):\r\n",
        "    return('mercedes')\r\n",
        "  else:\r\n",
        "    return('wrong')"
      ],
      "execution_count": 30,
      "outputs": []
    },
    {
      "cell_type": "code",
      "metadata": {
        "colab": {
          "base_uri": "https://localhost:8080/",
          "height": 706
        },
        "id": "nlBsnPnyGKso",
        "outputId": "d9e4fd3e-7079-46d8-dfd6-230701014ec8"
      },
      "source": [
        "import matplotlib.pyplot as plt\r\n",
        "from skimage.io import imread\r\n",
        "import os\r\n",
        "\r\n",
        "images = []\r\n",
        "target = []\r\n",
        "y_pred = []\r\n",
        "data = '/content/drive/MyDrive/Training/AI'\r\n",
        "categories = ['test']\r\n",
        "\r\n",
        "for category in categories:\r\n",
        "    class_num = categories.index(category)\r\n",
        "    path = os.path.join(data, category)\r\n",
        "    \r\n",
        "    for cat in os.listdir(path):\r\n",
        "        cat1 = os.path.join(path, cat)\r\n",
        "        for img in os.listdir(cat1):\r\n",
        "            img_array = imread(os.path.join(cat1, img))\r\n",
        "            images.append(img_array)\r\n",
        "            target.append(cat)\r\n",
        "            x = image.load_img(os.path.join(cat1, img),target_size=(224,224))\r\n",
        "            x = image.img_to_array(x)\r\n",
        "            x = np.expand_dims(x,axis=0)\r\n",
        "            x = preprocess_input(x)\r\n",
        "            y = model.predict(x)\r\n",
        "            de_y=decode(y)\r\n",
        "            y_pred.append(de_y)\r\n",
        "            print(y)\r\n",
        "\r\n",
        "images = np.array(images)\r\n",
        "target = np.array(target)\r\n",
        "y_pred=np.array(y_pred)\r\n",
        "plt.imshow(img_array)"
      ],
      "execution_count": 31,
      "outputs": [
        {
          "output_type": "stream",
          "text": [
            "[[1. 0. 0. 0. 0.]]\n",
            "[[1. 0. 0. 0. 0.]]\n",
            "[[1. 0. 0. 0. 0.]]\n",
            "[[1. 0. 0. 0. 0.]]\n",
            "[[1.0000000e+00 0.0000000e+00 0.0000000e+00 5.5726435e-21 0.0000000e+00]]\n",
            "[[0. 0. 0. 1. 0.]]\n",
            "[[0. 0. 0. 1. 0.]]\n",
            "[[0. 0. 0. 1. 0.]]\n",
            "[[3.1999332e-09 0.0000000e+00 1.1206283e-02 9.8879367e-01 2.2341465e-14]]\n",
            "[[0. 0. 0. 1. 0.]]\n",
            "[[0. 1. 0. 0. 0.]]\n",
            "[[6.5445596e-01 3.4526369e-01 7.1035259e-08 2.8022728e-04 4.6279199e-15]]\n",
            "[[0.000000e+00 1.000000e+00 8.418662e-38 0.000000e+00 0.000000e+00]]\n",
            "[[7.6784232e-22 1.0000000e+00 8.7470687e-33 4.5886494e-31 1.7274382e-28]]\n",
            "[[0. 1. 0. 0. 0.]]\n",
            "[[3.6734328e-26 4.8009657e-30 1.0000000e+00 8.4349648e-37 0.0000000e+00]]\n",
            "[[0. 0. 1. 0. 0.]]\n",
            "[[1.4730364e-29 0.0000000e+00 8.0551329e-11 0.0000000e+00 1.0000000e+00]]\n",
            "[[0. 0. 1. 0. 0.]]\n",
            "[[8.6917592e-32 0.0000000e+00 1.0000000e+00 0.0000000e+00 5.7676776e-23]]\n",
            "[[6.330889e-36 0.000000e+00 0.000000e+00 0.000000e+00 1.000000e+00]]\n",
            "[[1.3273282e-24 0.0000000e+00 0.0000000e+00 0.0000000e+00 1.0000000e+00]]\n",
            "[[0. 0. 0. 0. 1.]]\n",
            "[[0. 0. 0. 0. 1.]]\n",
            "[[0. 0. 0. 0. 1.]]\n"
          ],
          "name": "stdout"
        },
        {
          "output_type": "execute_result",
          "data": {
            "text/plain": [
              "<matplotlib.image.AxesImage at 0x7fb82b220828>"
            ]
          },
          "metadata": {
            "tags": []
          },
          "execution_count": 31
        },
        {
          "output_type": "display_data",
          "data": {
            "image/png": "[encoded data removed]",
            "text/plain": [
              "<Figure size 432x288 with 1 Axes>"
            ]
          },
          "metadata": {
            "tags": [],
            "needs_background": "light"
          }
        }
      ]
    },
    {
      "cell_type": "code",
      "metadata": {
        "colab": {
          "base_uri": "https://localhost:8080/"
        },
        "id": "TE0S2E5IJrIM",
        "outputId": "d3d6014a-3b31-40f7-99df-5e2aa8459937"
      },
      "source": [
        "y_pred"
      ],
      "execution_count": 32,
      "outputs": [
        {
          "output_type": "execute_result",
          "data": {
            "text/plain": [
              "array(['Lamborghini', 'Lamborghini', 'Lamborghini', 'Lamborghini',\n",
              "       'Lamborghini', 'ferari', 'ferari', 'ferari', 'wrong', 'ferari',\n",
              "       'aston martin', 'wrong', 'aston martin', 'aston martin',\n",
              "       'aston martin', 'bugatti', 'bugatti', 'mercedes', 'bugatti',\n",
              "       'bugatti', 'mercedes', 'mercedes', 'mercedes', 'mercedes',\n",
              "       'mercedes'], dtype='<U12')"
            ]
          },
          "metadata": {
            "tags": []
          },
          "execution_count": 32
        }
      ]
    },
    {
      "cell_type": "code",
      "metadata": {
        "colab": {
          "base_uri": "https://localhost:8080/"
        },
        "id": "1M0m1mvyME90",
        "outputId": "0e865a2d-6b56-4497-a44e-dd4b9f79ca92"
      },
      "source": [
        "target"
      ],
      "execution_count": 33,
      "outputs": [
        {
          "output_type": "execute_result",
          "data": {
            "text/plain": [
              "array(['Lamborghini', 'Lamborghini', 'Lamborghini', 'Lamborghini',\n",
              "       'Lamborghini', 'ferari', 'ferari', 'ferari', 'ferari', 'ferari',\n",
              "       'aston martin', 'aston martin', 'aston martin', 'aston martin',\n",
              "       'aston martin', 'bugatti', 'bugatti', 'bugatti', 'bugatti',\n",
              "       'bugatti', 'mercedes', 'mercedes', 'mercedes', 'mercedes',\n",
              "       'mercedes'], dtype='<U12')"
            ]
          },
          "metadata": {
            "tags": []
          },
          "execution_count": 33
        }
      ]
    },
    {
      "cell_type": "code",
      "metadata": {
        "colab": {
          "base_uri": "https://localhost:8080/"
        },
        "id": "KSlipJWLGpEQ",
        "outputId": "453af155-d4b2-4052-f2bf-5dcf66670c02"
      },
      "source": [
        "from sklearn import metrics\r\n",
        "from sklearn.metrics import confusion_matrix,classification_report\r\n",
        "print(\"Accuracy : \", metrics.accuracy_score(target,y_pred))\r\n",
        "confusion_matrix(target,y_pred)\r\n"
      ],
      "execution_count": 37,
      "outputs": [
        {
          "output_type": "stream",
          "text": [
            "Accuracy :  0.88\n"
          ],
          "name": "stdout"
        },
        {
          "output_type": "execute_result",
          "data": {
            "text/plain": [
              "array([[5, 0, 0, 0, 0, 0],\n",
              "       [0, 4, 0, 0, 0, 1],\n",
              "       [0, 0, 4, 0, 1, 0],\n",
              "       [0, 0, 0, 4, 0, 1],\n",
              "       [0, 0, 0, 0, 5, 0],\n",
              "       [0, 0, 0, 0, 0, 0]])"
            ]
          },
          "metadata": {
            "tags": []
          },
          "execution_count": 37
        }
      ]
    },
    {
      "cell_type": "code",
      "metadata": {
        "colab": {
          "base_uri": "https://localhost:8080/"
        },
        "id": "a-ybXcDqJQe5",
        "outputId": "a95f7ec2-0499-4c63-83fb-ae7cb80a563d"
      },
      "source": [
        "print(classification_report(target,y_pred))"
      ],
      "execution_count": 39,
      "outputs": [
        {
          "output_type": "stream",
          "text": [
            "              precision    recall  f1-score   support\n",
            "\n",
            " Lamborghini       1.00      1.00      1.00         5\n",
            "aston martin       1.00      0.80      0.89         5\n",
            "     bugatti       1.00      0.80      0.89         5\n",
            "      ferari       1.00      0.80      0.89         5\n",
            "    mercedes       0.83      1.00      0.91         5\n",
            "       wrong       0.00      0.00      0.00         0\n",
            "\n",
            "    accuracy                           0.88        25\n",
            "   macro avg       0.81      0.73      0.76        25\n",
            "weighted avg       0.97      0.88      0.92        25\n",
            "\n"
          ],
          "name": "stdout"
        },
        {
          "output_type": "stream",
          "text": [
            "/usr/local/lib/python3.6/dist-packages/sklearn/metrics/_classification.py:1272: UndefinedMetricWarning: Recall and F-score are ill-defined and being set to 0.0 in labels with no true samples. Use `zero_division` parameter to control this behavior.\n",
            "  _warn_prf(average, modifier, msg_start, len(result))\n"
          ],
          "name": "stderr"
        }
      ]
    },
    {
      "cell_type": "code",
      "metadata": {
        "id": "rOduvigjJpI1"
      },
      "source": [
        "model.save('mo.h5')"
      ],
      "execution_count": 41,
      "outputs": []
    },
    {
      "cell_type": "code",
      "metadata": {
        "colab": {
          "base_uri": "https://localhost:8080/",
          "height": 1000
        },
        "id": "zZZGIyhyO6sO",
        "outputId": "dd446e01-2c1a-47e1-9172-b2cda34ec993"
      },
      "source": [
        "\r\n",
        "!pip install pyngrok==4.1.1\r\n",
        "!pip install streamlit\r\n"
      ],
      "execution_count": 47,
      "outputs": [
        {
          "output_type": "stream",
          "text": [
            "Requirement already satisfied: pyngrok==4.1.1 in /usr/local/lib/python3.6/dist-packages (4.1.1)\n",
            "Requirement already satisfied: future in /usr/local/lib/python3.6/dist-packages (from pyngrok==4.1.1) (0.16.0)\n",
            "Requirement already satisfied: PyYAML in /usr/local/lib/python3.6/dist-packages (from pyngrok==4.1.1) (3.13)\n",
            "Collecting streamlit\n",
            "\u001b[?25l  Downloading https://files.pythonhosted.org/packages/a3/3b/8b70128553de980a5120b512c8eedc3667deced9554fc399703414b1d8cf/streamlit-0.72.0-py2.py3-none-any.whl (7.4MB)\n",
            "\u001b[K     |████████████████████████████████| 7.4MB 8.4MB/s \n",
            "\u001b[?25hRequirement already satisfied: click>=7.0 in /usr/local/lib/python3.6/dist-packages (from streamlit) (7.1.2)\n",
            "Requirement already satisfied: toml in /usr/local/lib/python3.6/dist-packages (from streamlit) (0.10.2)\n",
            "Collecting watchdog\n",
            "\u001b[?25l  Downloading https://files.pythonhosted.org/packages/e6/76/39d123d37908a772b6a281d85fbb4384d9db7e13d19d10ad409006bd2962/watchdog-1.0.1.tar.gz (97kB)\n",
            "\u001b[K     |████████████████████████████████| 102kB 13.9MB/s \n",
            "\u001b[?25hRequirement already satisfied: tornado>=5.0 in /usr/local/lib/python3.6/dist-packages (from streamlit) (5.1.1)\n",
            "Collecting blinker\n",
            "\u001b[?25l  Downloading https://files.pythonhosted.org/packages/1b/51/e2a9f3b757eb802f61dc1f2b09c8c99f6eb01cf06416c0671253536517b6/blinker-1.4.tar.gz (111kB)\n",
            "\u001b[K     |████████████████████████████████| 112kB 54.5MB/s \n",
            "\u001b[?25hRequirement already satisfied: altair>=3.2.0 in /usr/local/lib/python3.6/dist-packages (from streamlit) (4.1.0)\n",
            "Requirement already satisfied: tzlocal in /usr/local/lib/python3.6/dist-packages (from streamlit) (1.5.1)\n",
            "Requirement already satisfied: python-dateutil in /usr/local/lib/python3.6/dist-packages (from streamlit) (2.8.1)\n",
            "Requirement already satisfied: pillow>=6.2.0 in /usr/local/lib/python3.6/dist-packages (from streamlit) (7.0.0)\n",
            "Requirement already satisfied: cachetools>=4.0 in /usr/local/lib/python3.6/dist-packages (from streamlit) (4.1.1)\n",
            "Requirement already satisfied: pandas>=0.21.0 in /usr/local/lib/python3.6/dist-packages (from streamlit) (1.1.5)\n",
            "Requirement already satisfied: astor in /usr/local/lib/python3.6/dist-packages (from streamlit) (0.8.1)\n",
            "Requirement already satisfied: numpy in /usr/local/lib/python3.6/dist-packages (from streamlit) (1.18.5)\n",
            "Requirement already satisfied: pyarrow in /usr/local/lib/python3.6/dist-packages (from streamlit) (0.14.1)\n",
            "Requirement already satisfied: protobuf!=3.11,>=3.6.0 in /usr/local/lib/python3.6/dist-packages (from streamlit) (3.12.4)\n",
            "Collecting pydeck>=0.1.dev5\n",
            "\u001b[?25l  Downloading https://files.pythonhosted.org/packages/9e/9d/8fbf1f56cc5891e6c3295bf94fc176e9ab0a3ffdd090cc8b354ac2640f9a/pydeck-0.5.0-py2.py3-none-any.whl (4.5MB)\n",
            "\u001b[K     |████████████████████████████████| 4.5MB 50.5MB/s \n",
            "\u001b[?25hCollecting gitpython\n",
            "\u001b[?25l  Downloading https://files.pythonhosted.org/packages/24/d1/a7f8fe3df258549b303415157328bfcc63e9b11d06a7ad7a3327f3d32606/GitPython-3.1.11-py3-none-any.whl (159kB)\n",
            "\u001b[K     |████████████████████████████████| 163kB 52.2MB/s \n",
            "\u001b[?25hCollecting validators\n",
            "  Downloading https://files.pythonhosted.org/packages/41/4a/3360ff3cf2b4a1b9721ac1fbff5f84663f41047d9874b3aa1ac82e862c44/validators-0.18.1-py3-none-any.whl\n",
            "Requirement already satisfied: requests in /usr/local/lib/python3.6/dist-packages (from streamlit) (2.23.0)\n",
            "Requirement already satisfied: packaging in /usr/local/lib/python3.6/dist-packages (from streamlit) (20.7)\n",
            "Collecting base58\n",
            "  Downloading https://files.pythonhosted.org/packages/3c/03/58572025c77b9e6027155b272a1b96298e711cd4f95c24967f7137ab0c4b/base58-2.0.1-py3-none-any.whl\n",
            "Requirement already satisfied: jsonschema in /usr/local/lib/python3.6/dist-packages (from altair>=3.2.0->streamlit) (2.6.0)\n",
            "Requirement already satisfied: jinja2 in /usr/local/lib/python3.6/dist-packages (from altair>=3.2.0->streamlit) (2.11.2)\n",
            "Requirement already satisfied: entrypoints in /usr/local/lib/python3.6/dist-packages (from altair>=3.2.0->streamlit) (0.3)\n",
            "Requirement already satisfied: toolz in /usr/local/lib/python3.6/dist-packages (from altair>=3.2.0->streamlit) (0.11.1)\n",
            "Requirement already satisfied: pytz in /usr/local/lib/python3.6/dist-packages (from tzlocal->streamlit) (2018.9)\n",
            "Requirement already satisfied: six>=1.5 in /usr/local/lib/python3.6/dist-packages (from python-dateutil->streamlit) (1.15.0)\n",
            "Requirement already satisfied: setuptools in /usr/local/lib/python3.6/dist-packages (from protobuf!=3.11,>=3.6.0->streamlit) (50.3.2)\n",
            "Requirement already satisfied: traitlets>=4.3.2 in /usr/local/lib/python3.6/dist-packages (from pydeck>=0.1.dev5->streamlit) (4.3.3)\n",
            "Collecting ipykernel>=5.1.2; python_version >= \"3.4\"\n",
            "\u001b[?25l  Downloading https://files.pythonhosted.org/packages/56/c5/97a972202414c79c28814b1450a31a89777638fb3524e8b5b686a5436abe/ipykernel-5.4.2-py3-none-any.whl (119kB)\n",
            "\u001b[K     |████████████████████████████████| 122kB 57.1MB/s \n",
            "\u001b[?25hRequirement already satisfied: ipywidgets>=7.0.0 in /usr/local/lib/python3.6/dist-packages (from pydeck>=0.1.dev5->streamlit) (7.5.1)\n",
            "Collecting gitdb<5,>=4.0.1\n",
            "\u001b[?25l  Downloading https://files.pythonhosted.org/packages/48/11/d1800bca0a3bae820b84b7d813ad1eff15a48a64caea9c823fc8c1b119e8/gitdb-4.0.5-py3-none-any.whl (63kB)\n",
            "\u001b[K     |████████████████████████████████| 71kB 11.6MB/s \n",
            "\u001b[?25hRequirement already satisfied: decorator>=3.4.0 in /usr/local/lib/python3.6/dist-packages (from validators->streamlit) (4.4.2)\n",
            "Requirement already satisfied: idna<3,>=2.5 in /usr/local/lib/python3.6/dist-packages (from requests->streamlit) (2.10)\n",
            "Requirement already satisfied: urllib3!=1.25.0,!=1.25.1,<1.26,>=1.21.1 in /usr/local/lib/python3.6/dist-packages (from requests->streamlit) (1.24.3)\n",
            "Requirement already satisfied: certifi>=2017.4.17 in /usr/local/lib/python3.6/dist-packages (from requests->streamlit) (2020.12.5)\n",
            "Requirement already satisfied: chardet<4,>=3.0.2 in /usr/local/lib/python3.6/dist-packages (from requests->streamlit) (3.0.4)\n",
            "Requirement already satisfied: pyparsing>=2.0.2 in /usr/local/lib/python3.6/dist-packages (from packaging->streamlit) (2.4.7)\n",
            "Requirement already satisfied: MarkupSafe>=0.23 in /usr/local/lib/python3.6/dist-packages (from jinja2->altair>=3.2.0->streamlit) (1.1.1)\n",
            "Requirement already satisfied: ipython-genutils in /usr/local/lib/python3.6/dist-packages (from traitlets>=4.3.2->pydeck>=0.1.dev5->streamlit) (0.2.0)\n",
            "Requirement already satisfied: ipython>=5.0.0 in /usr/local/lib/python3.6/dist-packages (from ipykernel>=5.1.2; python_version >= \"3.4\"->pydeck>=0.1.dev5->streamlit) (5.5.0)\n",
            "Requirement already satisfied: jupyter-client in /usr/local/lib/python3.6/dist-packages (from ipykernel>=5.1.2; python_version >= \"3.4\"->pydeck>=0.1.dev5->streamlit) (5.3.5)\n",
            "Requirement already satisfied: nbformat>=4.2.0 in /usr/local/lib/python3.6/dist-packages (from ipywidgets>=7.0.0->pydeck>=0.1.dev5->streamlit) (5.0.8)\n",
            "Requirement already satisfied: widgetsnbextension~=3.5.0 in /usr/local/lib/python3.6/dist-packages (from ipywidgets>=7.0.0->pydeck>=0.1.dev5->streamlit) (3.5.1)\n",
            "Collecting smmap<4,>=3.0.1\n",
            "  Downloading https://files.pythonhosted.org/packages/b0/9a/4d409a6234eb940e6a78dfdfc66156e7522262f5f2fecca07dc55915952d/smmap-3.0.4-py2.py3-none-any.whl\n",
            "Requirement already satisfied: prompt-toolkit<2.0.0,>=1.0.4 in /usr/local/lib/python3.6/dist-packages (from ipython>=5.0.0->ipykernel>=5.1.2; python_version >= \"3.4\"->pydeck>=0.1.dev5->streamlit) (1.0.18)\n",
            "Requirement already satisfied: pickleshare in /usr/local/lib/python3.6/dist-packages (from ipython>=5.0.0->ipykernel>=5.1.2; python_version >= \"3.4\"->pydeck>=0.1.dev5->streamlit) (0.7.5)\n",
            "Requirement already satisfied: pygments in /usr/local/lib/python3.6/dist-packages (from ipython>=5.0.0->ipykernel>=5.1.2; python_version >= \"3.4\"->pydeck>=0.1.dev5->streamlit) (2.6.1)\n",
            "Requirement already satisfied: pexpect; sys_platform != \"win32\" in /usr/local/lib/python3.6/dist-packages (from ipython>=5.0.0->ipykernel>=5.1.2; python_version >= \"3.4\"->pydeck>=0.1.dev5->streamlit) (4.8.0)\n",
            "Requirement already satisfied: simplegeneric>0.8 in /usr/local/lib/python3.6/dist-packages (from ipython>=5.0.0->ipykernel>=5.1.2; python_version >= \"3.4\"->pydeck>=0.1.dev5->streamlit) (0.8.1)\n",
            "Requirement already satisfied: pyzmq>=13 in /usr/local/lib/python3.6/dist-packages (from jupyter-client->ipykernel>=5.1.2; python_version >= \"3.4\"->pydeck>=0.1.dev5->streamlit) (20.0.0)\n",
            "Requirement already satisfied: jupyter-core>=4.6.0 in /usr/local/lib/python3.6/dist-packages (from jupyter-client->ipykernel>=5.1.2; python_version >= \"3.4\"->pydeck>=0.1.dev5->streamlit) (4.7.0)\n",
            "Requirement already satisfied: notebook>=4.4.1 in /usr/local/lib/python3.6/dist-packages (from widgetsnbextension~=3.5.0->ipywidgets>=7.0.0->pydeck>=0.1.dev5->streamlit) (5.3.1)\n",
            "Requirement already satisfied: wcwidth in /usr/local/lib/python3.6/dist-packages (from prompt-toolkit<2.0.0,>=1.0.4->ipython>=5.0.0->ipykernel>=5.1.2; python_version >= \"3.4\"->pydeck>=0.1.dev5->streamlit) (0.2.5)\n",
            "Requirement already satisfied: ptyprocess>=0.5 in /usr/local/lib/python3.6/dist-packages (from pexpect; sys_platform != \"win32\"->ipython>=5.0.0->ipykernel>=5.1.2; python_version >= \"3.4\"->pydeck>=0.1.dev5->streamlit) (0.6.0)\n",
            "Requirement already satisfied: Send2Trash in /usr/local/lib/python3.6/dist-packages (from notebook>=4.4.1->widgetsnbextension~=3.5.0->ipywidgets>=7.0.0->pydeck>=0.1.dev5->streamlit) (1.5.0)\n",
            "Requirement already satisfied: nbconvert in /usr/local/lib/python3.6/dist-packages (from notebook>=4.4.1->widgetsnbextension~=3.5.0->ipywidgets>=7.0.0->pydeck>=0.1.dev5->streamlit) (5.6.1)\n",
            "Requirement already satisfied: terminado>=0.8.1 in /usr/local/lib/python3.6/dist-packages (from notebook>=4.4.1->widgetsnbextension~=3.5.0->ipywidgets>=7.0.0->pydeck>=0.1.dev5->streamlit) (0.9.1)\n",
            "Requirement already satisfied: testpath in /usr/local/lib/python3.6/dist-packages (from nbconvert->notebook>=4.4.1->widgetsnbextension~=3.5.0->ipywidgets>=7.0.0->pydeck>=0.1.dev5->streamlit) (0.4.4)\n",
            "Requirement already satisfied: mistune<2,>=0.8.1 in /usr/local/lib/python3.6/dist-packages (from nbconvert->notebook>=4.4.1->widgetsnbextension~=3.5.0->ipywidgets>=7.0.0->pydeck>=0.1.dev5->streamlit) (0.8.4)\n",
            "Requirement already satisfied: pandocfilters>=1.4.1 in /usr/local/lib/python3.6/dist-packages (from nbconvert->notebook>=4.4.1->widgetsnbextension~=3.5.0->ipywidgets>=7.0.0->pydeck>=0.1.dev5->streamlit) (1.4.3)\n",
            "Requirement already satisfied: bleach in /usr/local/lib/python3.6/dist-packages (from nbconvert->notebook>=4.4.1->widgetsnbextension~=3.5.0->ipywidgets>=7.0.0->pydeck>=0.1.dev5->streamlit) (3.2.1)\n",
            "Requirement already satisfied: defusedxml in /usr/local/lib/python3.6/dist-packages (from nbconvert->notebook>=4.4.1->widgetsnbextension~=3.5.0->ipywidgets>=7.0.0->pydeck>=0.1.dev5->streamlit) (0.6.0)\n",
            "Requirement already satisfied: webencodings in /usr/local/lib/python3.6/dist-packages (from bleach->nbconvert->notebook>=4.4.1->widgetsnbextension~=3.5.0->ipywidgets>=7.0.0->pydeck>=0.1.dev5->streamlit) (0.5.1)\n",
            "Building wheels for collected packages: watchdog, blinker\n",
            "  Building wheel for watchdog (setup.py) ... \u001b[?25l\u001b[?25hdone\n",
            "  Created wheel for watchdog: filename=watchdog-1.0.1-cp36-none-any.whl size=72206 sha256=f34a4a462947dd5eed7e9b299a1f1d0d6dd098945bdf1b7b1261788e02bd3b80\n",
            "  Stored in directory: /root/.cache/pip/wheels/d8/ce/d8/31a48288b5728794feda5ac479fa324cc1cde4398c29eff064\n",
            "  Building wheel for blinker (setup.py) ... \u001b[?25l\u001b[?25hdone\n",
            "  Created wheel for blinker: filename=blinker-1.4-cp36-none-any.whl size=13450 sha256=f088b32580e8eece0b75c7bb741b9182dcf93b169e0fff5b28721c421b477316\n",
            "  Stored in directory: /root/.cache/pip/wheels/92/a0/00/8690a57883956a301d91cf4ec999cc0b258b01e3f548f86e89\n",
            "Successfully built watchdog blinker\n",
            "\u001b[31mERROR: google-colab 1.0.0 has requirement ipykernel~=4.10, but you'll have ipykernel 5.4.2 which is incompatible.\u001b[0m\n",
            "Installing collected packages: watchdog, blinker, ipykernel, pydeck, smmap, gitdb, gitpython, validators, base58, streamlit\n",
            "  Found existing installation: ipykernel 4.10.1\n",
            "    Uninstalling ipykernel-4.10.1:\n",
            "      Successfully uninstalled ipykernel-4.10.1\n",
            "Successfully installed base58-2.0.1 blinker-1.4 gitdb-4.0.5 gitpython-3.1.11 ipykernel-5.4.2 pydeck-0.5.0 smmap-3.0.4 streamlit-0.72.0 validators-0.18.1 watchdog-1.0.1\n"
          ],
          "name": "stdout"
        },
        {
          "output_type": "display_data",
          "data": {
            "application/vnd.colab-display-data+json": {
              "pip_warning": {
                "packages": [
                  "ipykernel"
                ]
              }
            }
          },
          "metadata": {
            "tags": []
          }
        }
      ]
    },
    {
      "cell_type": "code",
      "metadata": {
        "colab": {
          "base_uri": "https://localhost:8080/"
        },
        "id": "dnp-GCSnV2FV",
        "outputId": "4ac29da8-fb62-423e-ae02-34b51109a3a8"
      },
      "source": [
        "!pip install CV2"
      ],
      "execution_count": 68,
      "outputs": [
        {
          "output_type": "stream",
          "text": [
            "\u001b[31mERROR: Could not find a version that satisfies the requirement CV2 (from versions: none)\u001b[0m\n",
            "\u001b[31mERROR: No matching distribution found for CV2\u001b[0m\n"
          ],
          "name": "stdout"
        }
      ]
    },
    {
      "cell_type": "code",
      "metadata": {
        "colab": {
          "base_uri": "https://localhost:8080/"
        },
        "id": "k7SV6W-AMQZO",
        "outputId": "209d1ad5-2973-4f63-f603-f99c1a87394b"
      },
      "source": [
        "%%writefile app1.py\r\n",
        "import streamlit as st\r\n",
        "import tensorflow as tf\r\n",
        "import numpy as np\r\n",
        "from PIL import Image\r\n",
        "from tensorflow.keras.applications.vgg16 import preprocess_input\r\n",
        "from tensorflow.keras.preprocessing import image\r\n",
        "\r\n",
        "m_new = tf.keras.models.load_model('mo.h5')\r\n",
        "\r\n",
        "def decode(a):\r\n",
        "  if (a[0][0]==1):\r\n",
        "    return('Lamborghini')\r\n",
        "  elif (a[0][1]==1):\r\n",
        "    return('aston martin')\r\n",
        "  elif (a[0][2]==1):\r\n",
        "    return('bugatti')\r\n",
        "  elif (a[0][3]==1):\r\n",
        "    return('ferari')\r\n",
        "  elif (a[0][4]==1):\r\n",
        "    return('mercedes')\r\n",
        "  else:\r\n",
        "    return('invalid')\r\n",
        "\r\n",
        "st.title('logo')\r\n",
        "st.write('Using Transfer learning')\r\n",
        "# a = st.text_input(\"Write your Name\",\"---\")\r\n",
        "# st.write(\"My name is \",a)\r\n",
        "upload = st.file_uploader(\"Choose an Image\")\r\n",
        "if upload is not None:\r\n",
        "  img = Image.open(upload)\r\n",
        "  st.image(img,caption = 'UPLOADED IMAGE',use_column_width=True)\r\n",
        "\r\n",
        "  if st.button('PREDICT'):\r\n",
        "    st.write(\"RESULT....\")\r\n",
        "    x = image.img_to_array(img)\r\n",
        "    x = np.expand_dims(x,axis=0)\r\n",
        "    x = preprocess_input(x)\r\n",
        "    extract = m_new.predict(x)\r\n",
        "    st.write(str(decode(extract)))\r\n"
      ],
      "execution_count": 73,
      "outputs": [
        {
          "output_type": "stream",
          "text": [
            "Overwriting app1.py\n"
          ],
          "name": "stdout"
        }
      ]
    },
    {
      "cell_type": "code",
      "metadata": {
        "colab": {
          "base_uri": "https://localhost:8080/"
        },
        "id": "YmN7c6gBOiWb",
        "outputId": "895b067d-b616-4799-e632-6c4f802cd4fb"
      },
      "source": [
        "!pip install pyngrok==4.1.1\r\n"
      ],
      "execution_count": 45,
      "outputs": [
        {
          "output_type": "stream",
          "text": [
            "Collecting pyngrok==4.1.1\n",
            "  Downloading https://files.pythonhosted.org/packages/e4/a9/de2e15c92eb3aa4a2646ce3a7542317eb69ac47f667578ce8bf916320847/pyngrok-4.1.1.tar.gz\n",
            "Requirement already satisfied: future in /usr/local/lib/python3.6/dist-packages (from pyngrok==4.1.1) (0.16.0)\n",
            "Requirement already satisfied: PyYAML in /usr/local/lib/python3.6/dist-packages (from pyngrok==4.1.1) (3.13)\n",
            "Building wheels for collected packages: pyngrok\n",
            "  Building wheel for pyngrok (setup.py) ... \u001b[?25l\u001b[?25hdone\n",
            "  Created wheel for pyngrok: filename=pyngrok-4.1.1-cp36-none-any.whl size=15970 sha256=f05196bc629777c3064e78ca92c163d3a27c73cf02c844046a2e9ecd2b6c70ec\n",
            "  Stored in directory: /root/.cache/pip/wheels/97/71/0d/1695f7c8815c0beb3b5d9b35d6eec9243c87e6070fbe3977fa\n",
            "Successfully built pyngrok\n",
            "Installing collected packages: pyngrok\n",
            "Successfully installed pyngrok-4.1.1\n"
          ],
          "name": "stdout"
        }
      ]
    },
    {
      "cell_type": "code",
      "metadata": {
        "colab": {
          "base_uri": "https://localhost:8080/",
          "height": 35
        },
        "id": "YdWqx43rOdnf",
        "outputId": "d7dad246-2123-4505-d877-cdd0fa1600fb"
      },
      "source": [
        "from pyngrok import ngrok\r\n",
        "url = ngrok.connect(port='8501')\r\n",
        "url\r\n"
      ],
      "execution_count": 74,
      "outputs": [
        {
          "output_type": "execute_result",
          "data": {
            "application/vnd.google.colaboratory.intrinsic+json": {
              "type": "string"
            },
            "text/plain": [
              "'http://0591448e795b.ngrok.io'"
            ]
          },
          "metadata": {
            "tags": []
          },
          "execution_count": 74
        }
      ]
    },
    {
      "cell_type": "code",
      "metadata": {
        "colab": {
          "base_uri": "https://localhost:8080/"
        },
        "id": "ulRSpIQiPF8D",
        "outputId": "c321a1f6-da2f-4145-ad9a-6abd8ef500a4"
      },
      "source": [
        "!streamlit run app1.py &\r\n"
      ],
      "execution_count": 75,
      "outputs": [
        {
          "output_type": "stream",
          "text": [
            "2020-12-13 13:51:09.619931: I tensorflow/stream_executor/platform/default/dso_loader.cc:48] Successfully opened dynamic library libcudart.so.10.1\n",
            "\u001b[0m\n",
            "\u001b[34m\u001b[1m  You can now view your Streamlit app in your browser.\u001b[0m\n",
            "\u001b[0m\n",
            "\u001b[34m  Network URL: \u001b[0m\u001b[1mhttp://172.28.0.2:8501\u001b[0m\n",
            "\u001b[34m  External URL: \u001b[0m\u001b[1mhttp://34.82.128.145:8501\u001b[0m\n",
            "\u001b[0m\n",
            "2020-12-13 13:51:10.855250: I tensorflow/stream_executor/platform/default/dso_loader.cc:48] Successfully opened dynamic library libcuda.so.1\n",
            "2020-12-13 13:51:10.860328: I tensorflow/stream_executor/cuda/cuda_gpu_executor.cc:982] successful NUMA node read from SysFS had negative value (-1), but there must be at least one NUMA node, so returning NUMA node zero\n",
            "2020-12-13 13:51:10.860878: I tensorflow/core/common_runtime/gpu/gpu_device.cc:1716] Found device 0 with properties: \n",
            "pciBusID: 0000:00:04.0 name: Tesla T4 computeCapability: 7.5\n",
            "coreClock: 1.59GHz coreCount: 40 deviceMemorySize: 14.73GiB deviceMemoryBandwidth: 298.08GiB/s\n",
            "2020-12-13 13:51:10.860948: I tensorflow/stream_executor/platform/default/dso_loader.cc:48] Successfully opened dynamic library libcudart.so.10.1\n",
            "2020-12-13 13:51:10.862739: I tensorflow/stream_executor/platform/default/dso_loader.cc:48] Successfully opened dynamic library libcublas.so.10\n",
            "2020-12-13 13:51:10.864458: I tensorflow/stream_executor/platform/default/dso_loader.cc:48] Successfully opened dynamic library libcufft.so.10\n",
            "2020-12-13 13:51:10.864872: I tensorflow/stream_executor/platform/default/dso_loader.cc:48] Successfully opened dynamic library libcurand.so.10\n",
            "2020-12-13 13:51:10.866734: I tensorflow/stream_executor/platform/default/dso_loader.cc:48] Successfully opened dynamic library libcusolver.so.10\n",
            "2020-12-13 13:51:10.868022: I tensorflow/stream_executor/platform/default/dso_loader.cc:48] Successfully opened dynamic library libcusparse.so.10\n",
            "2020-12-13 13:51:10.871802: I tensorflow/stream_executor/platform/default/dso_loader.cc:48] Successfully opened dynamic library libcudnn.so.7\n",
            "2020-12-13 13:51:10.871910: I tensorflow/stream_executor/cuda/cuda_gpu_executor.cc:982] successful NUMA node read from SysFS had negative value (-1), but there must be at least one NUMA node, so returning NUMA node zero\n",
            "2020-12-13 13:51:10.872417: I tensorflow/stream_executor/cuda/cuda_gpu_executor.cc:982] successful NUMA node read from SysFS had negative value (-1), but there must be at least one NUMA node, so returning NUMA node zero\n",
            "2020-12-13 13:51:10.872896: I tensorflow/core/common_runtime/gpu/gpu_device.cc:1858] Adding visible gpu devices: 0\n",
            "2020-12-13 13:51:10.879054: I tensorflow/core/platform/profile_utils/cpu_utils.cc:104] CPU Frequency: 2200000000 Hz\n",
            "2020-12-13 13:51:10.879375: I tensorflow/compiler/xla/service/service.cc:168] XLA service 0x20c99c0 initialized for platform Host (this does not guarantee that XLA will be used). Devices:\n",
            "2020-12-13 13:51:10.879506: I tensorflow/compiler/xla/service/service.cc:176]   StreamExecutor device (0): Host, Default Version\n",
            "2020-12-13 13:51:10.978592: I tensorflow/stream_executor/cuda/cuda_gpu_executor.cc:982] successful NUMA node read from SysFS had negative value (-1), but there must be at least one NUMA node, so returning NUMA node zero\n",
            "2020-12-13 13:51:10.979298: I tensorflow/compiler/xla/service/service.cc:168] XLA service 0x20c9b80 initialized for platform CUDA (this does not guarantee that XLA will be used). Devices:\n",
            "2020-12-13 13:51:10.979337: I tensorflow/compiler/xla/service/service.cc:176]   StreamExecutor device (0): Tesla T4, Compute Capability 7.5\n",
            "2020-12-13 13:51:10.979553: I tensorflow/stream_executor/cuda/cuda_gpu_executor.cc:982] successful NUMA node read from SysFS had negative value (-1), but there must be at least one NUMA node, so returning NUMA node zero\n",
            "2020-12-13 13:51:10.980201: I tensorflow/core/common_runtime/gpu/gpu_device.cc:1716] Found device 0 with properties: \n",
            "pciBusID: 0000:00:04.0 name: Tesla T4 computeCapability: 7.5\n",
            "coreClock: 1.59GHz coreCount: 40 deviceMemorySize: 14.73GiB deviceMemoryBandwidth: 298.08GiB/s\n",
            "2020-12-13 13:51:10.980296: I tensorflow/stream_executor/platform/default/dso_loader.cc:48] Successfully opened dynamic library libcudart.so.10.1\n",
            "2020-12-13 13:51:10.980342: I tensorflow/stream_executor/platform/default/dso_loader.cc:48] Successfully opened dynamic library libcublas.so.10\n",
            "2020-12-13 13:51:10.980369: I tensorflow/stream_executor/platform/default/dso_loader.cc:48] Successfully opened dynamic library libcufft.so.10\n",
            "2020-12-13 13:51:10.980390: I tensorflow/stream_executor/platform/default/dso_loader.cc:48] Successfully opened dynamic library libcurand.so.10\n",
            "2020-12-13 13:51:10.980426: I tensorflow/stream_executor/platform/default/dso_loader.cc:48] Successfully opened dynamic library libcusolver.so.10\n",
            "2020-12-13 13:51:10.980457: I tensorflow/stream_executor/platform/default/dso_loader.cc:48] Successfully opened dynamic library libcusparse.so.10\n",
            "2020-12-13 13:51:10.980487: I tensorflow/stream_executor/platform/default/dso_loader.cc:48] Successfully opened dynamic library libcudnn.so.7\n",
            "2020-12-13 13:51:10.980586: I tensorflow/stream_executor/cuda/cuda_gpu_executor.cc:982] successful NUMA node read from SysFS had negative value (-1), but there must be at least one NUMA node, so returning NUMA node zero\n",
            "2020-12-13 13:51:10.981481: I tensorflow/stream_executor/cuda/cuda_gpu_executor.cc:982] successful NUMA node read from SysFS had negative value (-1), but there must be at least one NUMA node, so returning NUMA node zero\n",
            "2020-12-13 13:51:10.982004: I tensorflow/core/common_runtime/gpu/gpu_device.cc:1858] Adding visible gpu devices: 0\n",
            "2020-12-13 13:51:10.982134: I tensorflow/stream_executor/platform/default/dso_loader.cc:48] Successfully opened dynamic library libcudart.so.10.1\n",
            "2020-12-13 13:51:11.631176: I tensorflow/core/common_runtime/gpu/gpu_device.cc:1257] Device interconnect StreamExecutor with strength 1 edge matrix:\n",
            "2020-12-13 13:51:11.631236: I tensorflow/core/common_runtime/gpu/gpu_device.cc:1263]      0 \n",
            "2020-12-13 13:51:11.631250: I tensorflow/core/common_runtime/gpu/gpu_device.cc:1276] 0:   N \n",
            "2020-12-13 13:51:11.631566: I tensorflow/stream_executor/cuda/cuda_gpu_executor.cc:982] successful NUMA node read from SysFS had negative value (-1), but there must be at least one NUMA node, so returning NUMA node zero\n",
            "2020-12-13 13:51:11.632225: I tensorflow/stream_executor/cuda/cuda_gpu_executor.cc:982] successful NUMA node read from SysFS had negative value (-1), but there must be at least one NUMA node, so returning NUMA node zero\n",
            "2020-12-13 13:51:11.632680: W tensorflow/core/common_runtime/gpu/gpu_bfc_allocator.cc:39] Overriding allow_growth setting because the TF_FORCE_GPU_ALLOW_GROWTH environment variable is set. Original config value was 0.\n",
            "2020-12-13 13:51:11.632729: I tensorflow/core/common_runtime/gpu/gpu_device.cc:1402] Created TensorFlow device (/job:localhost/replica:0/task:0/device:GPU:0 with 4734 MB memory) -> physical GPU (device: 0, name: Tesla T4, pci bus id: 0000:00:04.0, compute capability: 7.5)\n",
            "2020-12-13 13:52:05.181 Model was constructed with shape (None, 224, 224, 3) for input Tensor(\"input_2:0\", shape=(None, 224, 224, 3), dtype=float32), but it was called on an input with incompatible shape (None, 917, 1400, 3).\n",
            "\u001b[34m  Stopping...\u001b[0m\n"
          ],
          "name": "stdout"
        }
      ]
    }
  ]
}